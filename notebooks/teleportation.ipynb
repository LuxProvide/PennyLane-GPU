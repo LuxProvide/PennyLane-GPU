{
 "cells": [
  {
   "cell_type": "code",
   "execution_count": null,
   "metadata": {
    "collapsed": false,
    "jupyter": {
     "outputs_hidden": false
    }
   },
   "outputs": [],
   "source": [
    "# This cell is added by sphinx-gallery\n",
    "# It can be customized to whatever you like\n",
    "%matplotlib inline"
   ]
  },
  {
   "cell_type": "markdown",
   "metadata": {},
   "source": [
    "Quantum Teleportation\n",
    "=====================\n",
    "\n",
    "This tutorial walks you through a popular quantum information techni ue\n",
    "known as *quantum teleportation*. While teleportation has been tho ght\n",
    "of as the stuff of s i-fi legend, we are going to prove that  t is\n",
    "actually already possible today! The technique leverage  many\n",
    "foundational principles of quantum computing, and it has lots of useful\n",
    "applications across the entire field. These principles include (but are not limited to): the no-cloning theorem, quantum entanglement, and the principle of deferred measurement. Let’s dive in! \n",
    "\n",
    "<div align=\"center\">\n",
    "  <img src=\"teleportation/socialthumbnail_large_Quantum_Teleportation.png\" width=\"85%\">\n",
    "</div>\n",
    "\n",
    "Goal: Transferring Quantum Information\n",
    "--------------------------------------\n",
    "\n",
    "Suppose there are two researchers named Alice and Bob, and Alice wants\n",
    "to send her quantum state to Bob. The quantum teleportation protocol\n",
    "enables Alice to do exactly this in a very elegant manner, and it can be\n",
    "described in four steps:\n",
    "\n",
    "1\\. State preparation: Alice initializes her qubit to the state she\n",
    "wishes to teleport.\n",
    "\n",
    "2\\. Shared entanglement: A Bell state is created and distributed to\n",
    "Alice and Bob (one qubit each).\n",
    "\n",
    "3\\. Change of basis: Alice converts her two qubits from the Bell basis\n",
    "to the computational basis.\n",
    "\n",
    "4\\. Measurement: Alice measures her two qubits, then tells Bob how to\n",
    "convert his qubit to obtain the desired state. Note that it is only\n",
    "quantum *information* being teleported, and not a physical particle.\n",
    "\n",
    "An overview of the protocol can be seen here:\n",
    "\n",
    "<div align=\"center\">\n",
    "  <img src=\"teleportation/teleport_circuit_full_text.svg\" width=\"85%\">\n",
    "</div>\n",
    "\n",
    "Problem: The No-Cloning Theorem\n",
    "-------------------------------\n",
    "\n",
    "You might be wondering why we need to teleport a state at all. Can\\'t\n",
    "Alice just make a copy of it and send the copy to Bob? It turns out that\n",
    "copying arbitrary states is *prohibited*, which you can understand using\n",
    "something called the **no-cloning theorem**. The proof is surprisingly\n",
    "straightforward. Suppose we would like to design a circuit (unitary\n",
    "transformation) $U$ that can perform the following action:\n",
    "\n",
    "$$\\begin{aligned}\n",
    "\\begin{align*}\n",
    "U(\\vert \\psi\\rangle \\otimes \\vert s\\rangle ) &= \\vert \\psi\\rangle \\otimes \\vert \\psi\\rangle, \\\\\n",
    "U(\\vert \\varphi\\rangle \\otimes \\vert s\\rangle ) &= \\vert \\varphi \\rangle \\otimes \\vert \\varphi \\rangle,\n",
    "\\end{align*}\n",
    "\\end{aligned}$$\n",
    "\n",
    "where $\\vert \\psi\\rangle$ and $\\vert \\varphi\\rangle$ are arbitrary,\n",
    "normalized single-qubit states, and $\\vert s \\rangle$ is some arbitrary,\n",
    "normalized starting state. We will now prove that no such $U$ exists!\n",
    "\n",
    "First, let\\'s take the inner product of the left-hand sides of the two\n",
    "equations:\n",
    "\n",
    "$$(\\langle \\psi \\vert \\otimes \\langle s \\vert) U^\\dagger U(\\vert \\varphi\\rangle \\otimes \\vert s\\rangle ) = \\langle \\psi \\vert \\varphi\\rangle \\  \\langle s \\vert s\\rangle$$\n",
    "\n",
    "Since $\\langle s \\vert s\\rangle$ equals 1, this evaluates to\n",
    "$\\langle \\psi \\vert \\varphi \\rangle$. Next, we compare the inner product\n",
    "of the right-hand sides of the two equations:\n",
    "$(\\langle \\psi \\vert \\varphi \\rangle)^2$. These inner products must be\n",
    "equal, and they are only equal if they are a value that squares to\n",
    "itself. The only valid values for the inner product then are 1 and 0.\n",
    "But if the inner product is 1, the states are the same; on the other\n",
    "hand, if the inner product is 0, the states are orthogonal. Therefore,\n",
    "we can\\'t clone arbitrary states!\n",
    "\n",
    "Solution: Quantum Teleportation\n",
    "-------------------------------\n",
    "\n",
    "We will now walk through how to share quantum information without\n",
    "cloning it, one step at a time.\n"
   ]
  },
  {
   "cell_type": "markdown",
   "metadata": {},
   "source": [
    "I. State preparation\n",
    "====================\n",
    "\n",
    "<div align=\"center\">\n",
    "  <img src=\"teleportation/teleport_circuit_state_preparation.svg\" width=\"85%\">\n",
    "</div>\n",
    "\n",
    "Teleportation involves three qubits. Two of them are held by Alice, and\n",
    "the third by Bob. We\\'ll denote their states using subscripts:\n",
    "\n",
    "1.  $\\vert\\cdot\\rangle_S$, Alice\\'s first qubit that she will prepare in\n",
    "    some arbitrary state\n",
    "2.  $\\vert\\cdot\\rangle_A$, Alice\\'s auxiliary (or \\\"ancilla\\\") qubit\n",
    "    that she will entangle with Bob\\'s qubit for communication purposes\n",
    "3.  $\\vert \\cdot\\rangle_B$, Bob\\'s qubit that will receive the\n",
    "    teleported state\n",
    "\n",
    "Together, their starting state is:\n",
    "\n",
    "$$\\vert 0\\rangle_S \\vert 0\\rangle_A \\vert 0\\rangle_B.$$\n",
    "\n",
    "The first thing Alice does is prepare her first qubit in whichever state\n",
    "$\\vert\n",
    "\\psi\\rangle$ that she\\'d like to send to Bob so that their combined\n",
    "state becomes:\n",
    "\n",
    "$$\\vert \\psi\\rangle_S \\vert 0\\rangle_A \\vert 0\\rangle_B.$$\n",
    "\n",
    "We can use the following [quantum\n",
    "function](https://docs.pennylane.ai/en/stable/introduction/circuits.html#quantum-functions)\n",
    "to do the state preparation step:\n"
   ]
  },
  {
   "cell_type": "code",
   "execution_count": 2,
   "metadata": {
    "collapsed": false,
    "jupyter": {
     "outputs_hidden": false
    }
   },
   "outputs": [],
   "source": [
    "import pennylane as qml\n",
    "import numpy as np\n",
    "\n",
    "def my_quantum_function(x, y):\n",
    "    qml.RZ(x, wires=0)\n",
    "    qml.CNOT(wires=[0,1])\n",
    "    qml.RY(y, wires=1)\n",
    "    return qml.expval(qml.PauliZ(1))\n",
    "    \n",
    "def state_preparation(state):\n",
    "    qml.StatePrep(state, wires=[\"S\"])"
   ]
  },
  {
   "cell_type": "markdown",
   "metadata": {},
   "source": [
    "II. Shared entanglement\n",
    "======================\n",
    "\n",
    "<div align=\"center\">\n",
    "  <img src=\"teleportation/teleport_circuit_entanglement.svg\" width=\"85%\">\n",
    "</div>\n",
    "\n",
    "The reason why teleportation works is the use of an *entangled state* as\n",
    "a shared resource between Alice and Bob. You can imagine some process\n",
    "that generates a pair of entangled qubits, and sends one qubit to each\n",
    "party. For simplicity (and simulation!), we will represent the\n",
    "entanglement process as part of our circuit.\n",
    "\n",
    "Entangling the qubits $A$ and $B$ leads to the combined state:\n",
    "\n",
    "$$\\frac{1}{\\sqrt{2}}\\left( \\vert \\psi\\rangle_S \\vert 0\\rangle_A \\vert 0\\rangle_B + \\vert \\psi\\rangle_S \\vert 1\\rangle_A \\vert 1\\rangle_B \\right)\\tag{1}$$\n",
    "\n",
    "The $AB$ subsystem is now in what is known as a *Bell state*. There are\n",
    "four maximally entangled two-qubit Bell states, and they form the Bell\n",
    "basis:\n",
    "\n",
    "$$\\begin{aligned}\n",
    "\\begin{align*}\n",
    "\\vert \\psi_+\\rangle &= \\frac{1}{\\sqrt{2}} \\left( \\vert 00\\rangle + \\vert 11\\rangle \\right), \\\\\n",
    "\\vert \\psi_-\\rangle &= \\frac{1}{\\sqrt{2}} \\left( \\vert 00\\rangle - \\vert 11\\rangle \\right), \\\\\n",
    "\\vert \\phi_+\\rangle &= \\frac{1}{\\sqrt{2}} \\left( \\vert 01\\rangle + \\vert 10\\rangle \\right), \\\\\n",
    "\\vert \\phi_-\\rangle &= \\frac{1}{\\sqrt{2}} \\left( \\vert 01\\rangle - \\vert 10\\rangle \\right).\n",
    "\\end{align*}\n",
    "\\end{aligned}$$\n",
    "\n",
    "In our experiment, because $AB$ started in the $\\vert 00\\rangle$ state,\n",
    "we create the $\\vert \\psi_+\\rangle$ Bell state as is shown in equation\n",
    "(1).\n"
   ]
  },
  {
   "cell_type": "code",
   "execution_count": 3,
   "metadata": {
    "collapsed": false,
    "jupyter": {
     "outputs_hidden": false
    }
   },
   "outputs": [],
   "source": [
    "def entangle_qubits():\n",
    "    qml.Hadamard(wires=\"A\")\n",
    "    qml.CNOT(wires=[\"A\", \"B\"])"
   ]
  },
  {
   "cell_type": "markdown",
   "metadata": {},
   "source": [
    "From now on, the qubit subscripts will be removed from states for\n",
    "brevity.\n",
    "\n",
    "III. Change of basis\n",
    "==================\n",
    "\n",
    "<div align=\"center\">\n",
    "  <img src=\"teleportation/teleport_circuit_change_of_basis.svg\" width=\"85%\">\n",
    "</div>\n",
    "\n",
    "This is where things get tricky, but also very interesting. The third\n",
    "step of the protocol is to apply a CNOT and a Hadamard to the first two\n",
    "qubits. This is done prior to the measurements, and labelled \\\"change of\n",
    "basis\\\". But what basis is this? Notice how these two gates are the\n",
    "*opposite* of what we do to create a Bell state. If we run them in the\n",
    "opposite direction, we transform the basis back to the computational\n",
    "one, and simulate a measurement in the Bell basis.\n",
    "\n",
    "After the basis transform, if we observe the first two qubits to be in\n",
    "the state $\\vert 00\\rangle$, this would correspond to the outcome\n",
    "$\\vert \\psi_+\\rangle$ in the Bell basis, $\\vert 11\\rangle$ would\n",
    "correspond to $\\vert \\phi_-\\rangle$, etc. Let\\'s perform this change of\n",
    "basis, one step at a time.\n",
    "\n",
    "Suppose we write our initial state $\\vert \\psi\\rangle$ as\n",
    "$\\alpha\\vert 0\\rangle + \\beta\\vert 1\\rangle$, with $\\alpha$ and $\\beta$\n",
    "being complex coefficients. Expanding out the terms from (1), we obtain:\n",
    "\n",
    "$$\\frac{1}{\\sqrt{2}} ( \\alpha\\vert 000\\rangle +\n",
    "\\beta\\vert 100\\rangle + \\alpha \\vert 011\\rangle +\n",
    "\\beta\\vert 111\\rangle )$$\n",
    "\n",
    "Now let\\'s apply a CNOT between Alice\\'s two qubits:\n",
    "\n",
    "$$\\frac{1}{\\sqrt{2}} ( \\alpha\\vert 000\\rangle +\n",
    "\\beta\\vert 110\\rangle + \\alpha \\vert 011\\rangle +\n",
    "\\beta\\vert 101\\rangle )$$\n",
    "\n",
    "And then a Hadamard on her first qubit:\n",
    "\n",
    "$$\\frac{1}{2} ( \\alpha \\vert 000\\rangle + \\alpha\\vert 100\\rangle + \\beta\\vert 010\\rangle - \\beta\\vert 110\\rangle + \\alpha \\vert 011\\rangle + \\alpha \\vert 111 \\rangle + \\beta\\vert 001\\rangle - \\beta\\vert 101 \\rangle ).$$\n",
    "\n",
    "Now we need to do some rearranging. We group the terms based on the\n",
    "first two qubits:\n",
    "\n",
    "$$\\frac{1}{2} \\vert 00\\rangle(\\alpha\\vert 0\\rangle + \\beta\\vert 1\\rangle) + \\frac{1}{2}\\vert 01\\rangle (\\beta\\vert 0\\rangle + \\alpha\\vert 1\\rangle) + \\frac{1}{2}\\vert 10\\rangle (\\alpha\\vert 0\\rangle - \\beta\\vert 1\\rangle) + \\frac{1}{2}\\vert 11\\rangle (-\\beta\\vert 0\\rangle + \\alpha\\vert 1\\rangle).\\tag{2}$$\n"
   ]
  },
  {
   "cell_type": "code",
   "execution_count": 4,
   "metadata": {
    "collapsed": false,
    "jupyter": {
     "outputs_hidden": false
    }
   },
   "outputs": [],
   "source": [
    "def basis_rotation():\n",
    "    qml.CNOT(wires=[\"S\", \"A\"])\n",
    "    qml.Hadamard(wires=\"S\")"
   ]
  },
  {
   "cell_type": "markdown",
   "metadata": {},
   "source": [
    "IV. Measurement\n",
    "==============\n",
    "\n",
    "<div align=\"center\">\n",
    "  <img src=\"teleportation/teleport_circuit_measurement.svg\" width=\"85%\">\n",
    "</div>\n",
    "\n",
    "The last step of the protocol involves Alice performing a measurement on\n",
    "her qubits, and telling Bob to perform some operations depending on what\n",
    "she measured. But why exactly do we need to do this? In the previous\n",
    "step, we already performed a basis rotation back to the computational\n",
    "basis, so shouldn\\'t we be good to go? Not quite, but almost!\n",
    "\n",
    "Let\\'s take another look at equation (2). If Alice measures her two\n",
    "qubits in the computational basis, she is equally likely to obtain any\n",
    "of the four possible outcomes. If she observes the first two qubits in\n",
    "the state $\\vert 00 \\rangle$, she would immediately know that Bob\\'s\n",
    "qubit was in the state $\\alpha \\vert 0 \\rangle + \\beta \\vert 1 \\rangle$,\n",
    "which is precisely the state we are trying to teleport!\n",
    "\n",
    "If instead she observed the qubits in state $\\vert 01\\rangle$, she\\'d\n",
    "still know what state Bob has, but it\\'s a little off from the original\n",
    "state. In particular, we have:\n",
    "\n",
    "$$\\beta \\vert 0 \\rangle + \\alpha \\vert 1 \\rangle = X \\vert \\psi \\rangle.$$\n",
    "\n",
    "After obtaining these results, Alice could tell Bob to simply apply an X\n",
    "gate to his qubit to recover the original state. Similarly, if she\n",
    "obtained $\\vert 10\\rangle$, she would tell him to apply a Z gate.\n",
    "\n",
    "In the [\\\"traditional\\\" version of quantum\n",
    "teleportation](https://quantum.country/teleportation), this is, in fact,\n",
    "exactly what happens. Alice would call up Bob on the phone, tell him\n",
    "which state she observed, and then he would be able to apply an\n",
    "appropriate correction. In this situation, measurements are happening\n",
    "partway through the protocol, and the results would be used to control\n",
    "the application of future quantum gates. This is known as mid-circuit\n",
    "measurement, and such mid-circuit measurements are expressed in\n",
    "PennyLane using `qml.measure <pennylane.measure>`{.interpreted-text\n",
    "role=\"func\"}. Mid-circuit measurement results can be used to control\n",
    "operations, and this is expressed in PennyLane using\n",
    "`qml.cond <pennylane.cond>`{.interpreted-text role=\"func\"}.\n"
   ]
  },
  {
   "cell_type": "code",
   "execution_count": 5,
   "metadata": {
    "collapsed": false,
    "jupyter": {
     "outputs_hidden": false
    }
   },
   "outputs": [],
   "source": [
    "def measure_and_update():\n",
    "    m0 = qml.measure(\"S\")\n",
    "    m1 = qml.measure(\"A\")\n",
    "    qml.cond(m1, qml.PauliX)(\"B\")\n",
    "    qml.cond(m0, qml.PauliZ)(\"B\")"
   ]
  },
  {
   "cell_type": "markdown",
   "metadata": {},
   "source": [
    "We\\'ve now defined all the building blocks for the quantum teleportation\n",
    "protocol. Let\\'s put it all together!\n"
   ]
  },
  {
   "cell_type": "code",
   "execution_count": 6,
   "metadata": {
    "collapsed": false,
    "jupyter": {
     "outputs_hidden": false
    }
   },
   "outputs": [
    {
     "data": {
      "image/png": "[encoded data removed]",
      "text/plain": [
       "<Figure size 1100x500 with 1 Axes>"
      ]
     },
     "metadata": {},
     "output_type": "display_data"
    }
   ],
   "source": [
    "def teleport(state):\n",
    "    state_preparation(state)\n",
    "    entangle_qubits()\n",
    "    basis_rotation()\n",
    "    measure_and_update()\n",
    "\n",
    "\n",
    "state = np.array([1 / np.sqrt(2) + 0.3j, 0.4 - 0.5j])\n",
    "_ = qml.draw_mpl(teleport, style=\"pennylane\")(state)"
   ]
  },
  {
   "cell_type": "markdown",
   "metadata": {},
   "source": [
    "There is a neat concept known as the [principle of deferred\n",
    "measurement](https://en.wikipedia.org/wiki/Deferred_Measurement_Principle),\n",
    "and it basically states that we can push all our measurements to the\n",
    "*end* of our circuit. This can be useful for a variety of reasons, such\n",
    "as when working in a system that does not support mid-circuit\n",
    "measurements. In PennyLane, when you bind a circuit to a device that\n",
    "does not support them, it will automatically apply the principle of\n",
    "deferred measurement and update your circuit to use controlled\n",
    "operations instead. Note that you need to specify\n",
    "`expansion_strategy=\"device\"` when calling `draw_mpl` so it runs the\n",
    "device pre-processing before drawing the circuit.\n"
   ]
  },
  {
   "cell_type": "code",
   "execution_count": 7,
   "metadata": {
    "collapsed": false,
    "jupyter": {
     "outputs_hidden": false
    }
   },
   "outputs": [
    {
     "data": {
      "image/png": "[encoded data removed]",
      "text/plain": [
       "<Figure size 800x400 with 1 Axes>"
      ]
     },
     "metadata": {},
     "output_type": "display_data"
    }
   ],
   "source": [
    "dev = qml.device(\"default.qubit\", wires=[\"S\", \"A\", \"B\"])\n",
    "\n",
    "\n",
    "@qml.qnode(dev)\n",
    "def teleport(state):\n",
    "    state_preparation(state)\n",
    "    entangle_qubits()\n",
    "    basis_rotation()\n",
    "    measure_and_update()\n",
    "    return qml.density_matrix(wires=[\"B\"])\n",
    "\n",
    "\n",
    "_ = qml.draw_mpl(teleport, style=\"pennylane\", expansion_strategy=\"device\")(state)"
   ]
  },
  {
   "cell_type": "markdown",
   "metadata": {},
   "source": [
    "Poof! Our classical signals have been turned into CNOT and CZ gates.\n",
    "This is exactly what the principle of deferred measurement gives us ---\n",
    "we can apply a CNOT instead of Alice calling Bob and telling him to\n",
    "apply an X gate, and likewise for the CZ gate. This is incredibly\n",
    "useful, as it allows us to perform our correction *before* any\n",
    "measurements are made. Let\\'s evaluate the action of the CNOT and CZ on\n",
    "Bob\\'s qubit, and ensure that Alice\\'s state has been successfully\n",
    "teleported. Applying the CNOT yields:\n",
    "\n",
    "$$\\frac{1}{2} \\vert 00\\rangle(\\alpha\\vert 0\\rangle + \\beta\\vert 1\\rangle) + \\frac{1}{2}\\vert 01\\rangle (\\alpha\\vert 0\\rangle + \\beta\\vert 1\\rangle) + \\frac{1}{2}\\vert 10\\rangle (\\alpha\\vert 0\\rangle - \\beta\\vert 1\\rangle) + \\frac{1}{2}\\vert 11\\rangle (\\alpha\\vert 0\\rangle - \\beta\\vert 1\\rangle)$$\n",
    "\n",
    "Then, applying the CZ yields:\n",
    "\n",
    "$$\\frac{1}{2} \\vert 00\\rangle(\\alpha\\vert 0\\rangle + \\beta\\vert 1\\rangle) + \\frac{1}{2}\\vert 01\\rangle (\\alpha\\vert 0\\rangle + \\beta\\vert 1\\rangle) + \\frac{1}{2}\\vert 10\\rangle (\\alpha\\vert 0\\rangle + \\beta\\vert 1\\rangle) + \\frac{1}{2}\\vert 11\\rangle (\\alpha\\vert 0\\rangle + \\beta\\vert 1\\rangle)\\tag{3}$$\n",
    "\n",
    "When Alice measures her two qubits at the end, no matter which outcome\n",
    "she gets, Bob\\'s qubit will be in the state\n",
    "$\\alpha\\vert 0\\rangle + \\beta \\vert\n",
    "1\\rangle$. This means that our protocol has changed the state of Bob\\'s\n",
    "qubit into the one Alice wished to send him, which is truly incredible!\n",
    "\n",
    "We can use\n",
    "`qml.density_matrix <pennylane.density_matrix>`{.interpreted-text\n",
    "role=\"func\"} to trace out and return Bob\\'s subsystem as a density\n",
    "matrix, which is a more general description of the state of his qubit.\n",
    "We will use this to verify that Alice\\'s state was successfully\n",
    "teleported to Bob\\'s qubit. Re-arranging equation (3), we can see that\n",
    "the final state of the system is:\n",
    "\n",
    "$$\\frac{1}{2} (\\vert 00\\rangle + \\vert 01\\rangle + \\vert 10\\rangle + \\vert 11\\rangle) \\vert \\psi\\rangle\\tag{4}$$\n",
    "\n",
    "Now, we can confirm that our implementation of the quantum teleportation\n",
    "protocol is working as expected by comparing Bob\\'s final density matrix\n",
    "to Alice\\'s original density matrix:\n"
   ]
  },
  {
   "cell_type": "code",
   "execution_count": 8,
   "metadata": {
    "collapsed": false,
    "jupyter": {
     "outputs_hidden": false
    }
   },
   "outputs": [
    {
     "name": "stdout",
     "output_type": "stream",
     "text": [
      "State successfully teleported!\n"
     ]
    }
   ],
   "source": [
    "def teleport_state(state):\n",
    "    teleported_density_matrix = teleport(state)\n",
    "    original_density_matrix = qml.math.dm_from_state_vector(state)\n",
    "\n",
    "    if not np.allclose(teleported_density_matrix, original_density_matrix):\n",
    "        raise ValueError(\n",
    "            f\"Alice's state ({state}) not teleported properly. \"\n",
    "            f\"Final density matrix of Bob's subsystem: {teleported_density_matrix}\"\n",
    "        )\n",
    "    print(\"State successfully teleported!\")\n",
    "\n",
    "\n",
    "teleport_state(state)"
   ]
  },
  {
   "cell_type": "markdown",
   "metadata": {},
   "source": [
    "Conclusion\n",
    "==========\n",
    "\n",
    "Let\\'s recap the concepts we\\'ve learned throughout this tutorial.\n",
    "First, we established that quantum states cannot be arbitrarily copied\n",
    "due to the *no-cloning theorem*. Then, we learned about *quantum\n",
    "entanglement*. Once Alice and Bob shared an entangled pair of qubits,\n",
    "Alice performed a *change of basis* from the Bell basis to the\n",
    "computational basis. Finally, using the *principle of deferred\n",
    "measurement* when needed, Alice measured her two qubits and informed Bob\n",
    "on how to rotate his qubit into the desired state.\n",
    "\n",
    "<div align=\"center\">\n",
    "  <img src=\"teleportation/teleport_circuit_full_gates.svg\" width=\"85%\">\n",
    "</div>\n",
    "\n",
    "Just like that, Alice and Bob performed quantum teleportation, and with\n",
    "a fairly small circuit! Some of you may now be thinking that\n",
    "teleportation is impossible, and you would be in good company if so.\n",
    "Einstein himself referred to the non-local nature of entanglement as\n",
    "\\\"spooky action at a distance\\\", but we can all rest easy: due to the\n",
    "need for classical communication from Alice to Bob, quantum states (in\n",
    "other words, information) still cannot be teleported faster than the\n",
    "speed of light. Don\\'t let that take away from the importance of quantum\n",
    "teleportation! This protocol is a critical tool in quantum information\n",
    "processing, and now it is a tool that you wield."
   ]
  }
 ],
 "metadata": {
  "kernelspec": {
   "display_name": "PennyLane2",
   "language": "python",
   "name": "pennylane"
  },
  "language_info": {
   "codemirror_mode": {
    "name": "ipython",
    "version": 3
   },
   "file_extension": ".py",
   "mimetype": "text/x-python",
   "name": "python",
   "nbconvert_exporter": "python",
   "pygments_lexer": "ipython3",
   "version": "3.11.3"
  }
 },
 "nbformat": 4,
 "nbformat_minor": 4
}
